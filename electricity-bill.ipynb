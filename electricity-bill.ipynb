{
 "cells": [
  {
   "cell_type": "code",
   "execution_count": 1,
   "id": "e12122d8",
   "metadata": {},
   "outputs": [],
   "source": [
    "import pandas as pd\n",
    "from sklearn.model_selection import train_test_split\n",
    "from sklearn.linear_model import LinearRegression\n",
    "from sklearn.preprocessing import StandardScaler\n",
    "\n",
    "\n"
   ]
  },
  {
   "cell_type": "code",
   "execution_count": 2,
   "id": "d2b53014",
   "metadata": {},
   "outputs": [],
   "source": [
    "data = pd.read_csv('bill.csv')"
   ]
  },
  {
   "cell_type": "code",
   "execution_count": 3,
   "id": "a4184f38",
   "metadata": {},
   "outputs": [
    {
     "data": {
      "text/html": [
       "<div>\n",
       "<style scoped>\n",
       "    .dataframe tbody tr th:only-of-type {\n",
       "        vertical-align: middle;\n",
       "    }\n",
       "\n",
       "    .dataframe tbody tr th {\n",
       "        vertical-align: top;\n",
       "    }\n",
       "\n",
       "    .dataframe thead th {\n",
       "        text-align: right;\n",
       "    }\n",
       "</style>\n",
       "<table border=\"1\" class=\"dataframe\">\n",
       "  <thead>\n",
       "    <tr style=\"text-align: right;\">\n",
       "      <th></th>\n",
       "      <th>Month</th>\n",
       "      <th>No_of_Bulbs</th>\n",
       "      <th>No_of_Fans</th>\n",
       "      <th>No_of_Washing_Machines</th>\n",
       "      <th>No_of_Water_Pumps</th>\n",
       "      <th>No_of_Freezers</th>\n",
       "      <th>No_of_TV</th>\n",
       "      <th>No_of_AC</th>\n",
       "      <th>No_of_Iron</th>\n",
       "      <th>Electricity_Bill</th>\n",
       "      <th>Total_Units_Consumed</th>\n",
       "      <th>Price_per_Unit</th>\n",
       "      <th>Total_Bill</th>\n",
       "    </tr>\n",
       "  </thead>\n",
       "  <tbody>\n",
       "    <tr>\n",
       "      <th>0</th>\n",
       "      <td>January</td>\n",
       "      <td>10</td>\n",
       "      <td>3</td>\n",
       "      <td>2</td>\n",
       "      <td>1</td>\n",
       "      <td>1</td>\n",
       "      <td>1</td>\n",
       "      <td>0</td>\n",
       "      <td>1</td>\n",
       "      <td>150.0</td>\n",
       "      <td>200</td>\n",
       "      <td>19.5</td>\n",
       "      <td>3900</td>\n",
       "    </tr>\n",
       "    <tr>\n",
       "      <th>1</th>\n",
       "      <td>February</td>\n",
       "      <td>12</td>\n",
       "      <td>4</td>\n",
       "      <td>2</td>\n",
       "      <td>1</td>\n",
       "      <td>1</td>\n",
       "      <td>1</td>\n",
       "      <td>1</td>\n",
       "      <td>0</td>\n",
       "      <td>160.0</td>\n",
       "      <td>220</td>\n",
       "      <td>20.5</td>\n",
       "      <td>4510</td>\n",
       "    </tr>\n",
       "    <tr>\n",
       "      <th>2</th>\n",
       "      <td>March</td>\n",
       "      <td>8</td>\n",
       "      <td>2</td>\n",
       "      <td>1</td>\n",
       "      <td>1</td>\n",
       "      <td>1</td>\n",
       "      <td>1</td>\n",
       "      <td>0</td>\n",
       "      <td>0</td>\n",
       "      <td>130.0</td>\n",
       "      <td>180</td>\n",
       "      <td>19.5</td>\n",
       "      <td>3510</td>\n",
       "    </tr>\n",
       "    <tr>\n",
       "      <th>3</th>\n",
       "      <td>April</td>\n",
       "      <td>11</td>\n",
       "      <td>3</td>\n",
       "      <td>3</td>\n",
       "      <td>2</td>\n",
       "      <td>1</td>\n",
       "      <td>1</td>\n",
       "      <td>1</td>\n",
       "      <td>1</td>\n",
       "      <td>175.0</td>\n",
       "      <td>240</td>\n",
       "      <td>20.5</td>\n",
       "      <td>4275</td>\n",
       "    </tr>\n",
       "    <tr>\n",
       "      <th>4</th>\n",
       "      <td>May</td>\n",
       "      <td>9</td>\n",
       "      <td>3</td>\n",
       "      <td>2</td>\n",
       "      <td>1</td>\n",
       "      <td>1</td>\n",
       "      <td>1</td>\n",
       "      <td>0</td>\n",
       "      <td>1</td>\n",
       "      <td>145.0</td>\n",
       "      <td>200</td>\n",
       "      <td>19.5</td>\n",
       "      <td>2905</td>\n",
       "    </tr>\n",
       "  </tbody>\n",
       "</table>\n",
       "</div>"
      ],
      "text/plain": [
       "      Month  No_of_Bulbs  No_of_Fans  No_of_Washing_Machines  \\\n",
       "0   January           10           3                       2   \n",
       "1  February           12           4                       2   \n",
       "2     March            8           2                       1   \n",
       "3     April           11           3                       3   \n",
       "4       May            9           3                       2   \n",
       "\n",
       "   No_of_Water_Pumps  No_of_Freezers  No_of_TV  No_of_AC  No_of_Iron  \\\n",
       "0                  1               1         1         0           1   \n",
       "1                  1               1         1         1           0   \n",
       "2                  1               1         1         0           0   \n",
       "3                  2               1         1         1           1   \n",
       "4                  1               1         1         0           1   \n",
       "\n",
       "   Electricity_Bill  Total_Units_Consumed  Price_per_Unit  Total_Bill  \n",
       "0             150.0                   200            19.5        3900  \n",
       "1             160.0                   220            20.5        4510  \n",
       "2             130.0                   180            19.5        3510  \n",
       "3             175.0                   240            20.5        4275  \n",
       "4             145.0                   200            19.5        2905  "
      ]
     },
     "execution_count": 3,
     "metadata": {},
     "output_type": "execute_result"
    }
   ],
   "source": [
    "data.head()"
   ]
  },
  {
   "cell_type": "code",
   "execution_count": 4,
   "id": "47bf0c0b",
   "metadata": {},
   "outputs": [
    {
     "data": {
      "text/plain": [
       "(48, 13)"
      ]
     },
     "execution_count": 4,
     "metadata": {},
     "output_type": "execute_result"
    }
   ],
   "source": [
    "data.shape"
   ]
  },
  {
   "cell_type": "code",
   "execution_count": 5,
   "id": "a7442b83",
   "metadata": {},
   "outputs": [
    {
     "data": {
      "text/plain": [
       "['Month',\n",
       " 'No_of_Bulbs',\n",
       " 'No_of_Fans',\n",
       " 'No_of_Washing_Machines',\n",
       " 'No_of_Water_Pumps',\n",
       " 'No_of_Freezers',\n",
       " 'No_of_TV',\n",
       " 'No_of_AC',\n",
       " 'No_of_Iron',\n",
       " 'Electricity_Bill',\n",
       " 'Total_Units_Consumed',\n",
       " 'Price_per_Unit',\n",
       " 'Total_Bill']"
      ]
     },
     "execution_count": 5,
     "metadata": {},
     "output_type": "execute_result"
    }
   ],
   "source": [
    "data.columns.values.tolist()"
   ]
  },
  {
   "cell_type": "code",
   "execution_count": 6,
   "id": "39bf174c",
   "metadata": {},
   "outputs": [
    {
     "name": "stdout",
     "output_type": "stream",
     "text": [
      "smmary :       No_of_Bulbs  No_of_Fans  No_of_Washing_Machines  No_of_Water_Pumps  \\\n",
      "count    48.000000   48.000000               48.000000          48.000000   \n",
      "mean     11.250000    3.208333                1.916667           1.291667   \n",
      "std       2.410085    0.824062                0.646869           0.459340   \n",
      "min       8.000000    2.000000                1.000000           1.000000   \n",
      "25%       9.750000    3.000000                1.750000           1.000000   \n",
      "50%      11.000000    3.000000                2.000000           1.000000   \n",
      "75%      12.250000    4.000000                2.000000           2.000000   \n",
      "max      17.000000    5.000000                3.000000           2.000000   \n",
      "\n",
      "       No_of_Freezers   No_of_TV   No_of_AC  No_of_Iron  Electricity_Bill  \\\n",
      "count       48.000000  48.000000  48.000000   48.000000         48.000000   \n",
      "mean         0.875000   0.916667   0.541667    0.666667        195.937500   \n",
      "std          0.334219   0.279310   0.503534    0.476393         56.442083   \n",
      "min          0.000000   0.000000   0.000000    0.000000        130.000000   \n",
      "25%          1.000000   1.000000   0.000000    0.000000        152.250000   \n",
      "50%          1.000000   1.000000   1.000000    1.000000        172.500000   \n",
      "75%          1.000000   1.000000   1.000000    1.000000        240.750000   \n",
      "max          1.000000   1.000000   1.000000    1.000000        307.500000   \n",
      "\n",
      "       Total_Units_Consumed  Price_per_Unit   Total_Bill  \n",
      "count             48.000000       48.000000    48.000000  \n",
      "mean             166.041667       19.729167  3010.833333  \n",
      "std               50.419077        0.460785   883.923395  \n",
      "min               78.000000       19.500000  1530.000000  \n",
      "25%              130.500000       19.500000  2542.500000  \n",
      "50%              169.000000       19.500000  2915.000000  \n",
      "75%              202.500000       19.500000  3510.000000  \n",
      "max              250.000000       21.000000  5250.000000  \n"
     ]
    }
   ],
   "source": [
    "print(f'smmary :{data.describe()}')"
   ]
  },
  {
   "cell_type": "code",
   "execution_count": 7,
   "id": "78939017",
   "metadata": {},
   "outputs": [],
   "source": [
    "X = data[['No_of_Bulbs', 'No_of_Fans', 'No_of_Washing_Machines', 'No_of_Water_Pumps',\n",
    "        'No_of_Freezers', 'No_of_TV', 'No_of_AC', 'No_of_Iron', 'Electricity_Bill',\n",
    "        'Total_Units_Consumed', 'Price_per_Unit']]\n",
    "\n",
    "y = data['Total_Bill']"
   ]
  },
  {
   "cell_type": "code",
   "execution_count": 8,
   "id": "850d5710",
   "metadata": {},
   "outputs": [],
   "source": [
    "X_train, X_test, y_train, y_test = train_test_split(X, y, test_size=0.2, random_state=42)"
   ]
  },
  {
   "cell_type": "code",
   "execution_count": 9,
   "id": "3200fbe5",
   "metadata": {},
   "outputs": [],
   "source": [
    "scaler = StandardScaler()\n",
    "X_train_scaled = scaler.fit_transform(X_train)\n",
    "X_test_scaled = scaler.transform(X_test)"
   ]
  },
  {
   "cell_type": "code",
   "execution_count": 10,
   "id": "23dad84d",
   "metadata": {},
   "outputs": [
    {
     "data": {
      "text/html": [
       "<style>#sk-container-id-1 {color: black;}#sk-container-id-1 pre{padding: 0;}#sk-container-id-1 div.sk-toggleable {background-color: white;}#sk-container-id-1 label.sk-toggleable__label {cursor: pointer;display: block;width: 100%;margin-bottom: 0;padding: 0.3em;box-sizing: border-box;text-align: center;}#sk-container-id-1 label.sk-toggleable__label-arrow:before {content: \"▸\";float: left;margin-right: 0.25em;color: #696969;}#sk-container-id-1 label.sk-toggleable__label-arrow:hover:before {color: black;}#sk-container-id-1 div.sk-estimator:hover label.sk-toggleable__label-arrow:before {color: black;}#sk-container-id-1 div.sk-toggleable__content {max-height: 0;max-width: 0;overflow: hidden;text-align: left;background-color: #f0f8ff;}#sk-container-id-1 div.sk-toggleable__content pre {margin: 0.2em;color: black;border-radius: 0.25em;background-color: #f0f8ff;}#sk-container-id-1 input.sk-toggleable__control:checked~div.sk-toggleable__content {max-height: 200px;max-width: 100%;overflow: auto;}#sk-container-id-1 input.sk-toggleable__control:checked~label.sk-toggleable__label-arrow:before {content: \"▾\";}#sk-container-id-1 div.sk-estimator input.sk-toggleable__control:checked~label.sk-toggleable__label {background-color: #d4ebff;}#sk-container-id-1 div.sk-label input.sk-toggleable__control:checked~label.sk-toggleable__label {background-color: #d4ebff;}#sk-container-id-1 input.sk-hidden--visually {border: 0;clip: rect(1px 1px 1px 1px);clip: rect(1px, 1px, 1px, 1px);height: 1px;margin: -1px;overflow: hidden;padding: 0;position: absolute;width: 1px;}#sk-container-id-1 div.sk-estimator {font-family: monospace;background-color: #f0f8ff;border: 1px dotted black;border-radius: 0.25em;box-sizing: border-box;margin-bottom: 0.5em;}#sk-container-id-1 div.sk-estimator:hover {background-color: #d4ebff;}#sk-container-id-1 div.sk-parallel-item::after {content: \"\";width: 100%;border-bottom: 1px solid gray;flex-grow: 1;}#sk-container-id-1 div.sk-label:hover label.sk-toggleable__label {background-color: #d4ebff;}#sk-container-id-1 div.sk-serial::before {content: \"\";position: absolute;border-left: 1px solid gray;box-sizing: border-box;top: 0;bottom: 0;left: 50%;z-index: 0;}#sk-container-id-1 div.sk-serial {display: flex;flex-direction: column;align-items: center;background-color: white;padding-right: 0.2em;padding-left: 0.2em;position: relative;}#sk-container-id-1 div.sk-item {position: relative;z-index: 1;}#sk-container-id-1 div.sk-parallel {display: flex;align-items: stretch;justify-content: center;background-color: white;position: relative;}#sk-container-id-1 div.sk-item::before, #sk-container-id-1 div.sk-parallel-item::before {content: \"\";position: absolute;border-left: 1px solid gray;box-sizing: border-box;top: 0;bottom: 0;left: 50%;z-index: -1;}#sk-container-id-1 div.sk-parallel-item {display: flex;flex-direction: column;z-index: 1;position: relative;background-color: white;}#sk-container-id-1 div.sk-parallel-item:first-child::after {align-self: flex-end;width: 50%;}#sk-container-id-1 div.sk-parallel-item:last-child::after {align-self: flex-start;width: 50%;}#sk-container-id-1 div.sk-parallel-item:only-child::after {width: 0;}#sk-container-id-1 div.sk-dashed-wrapped {border: 1px dashed gray;margin: 0 0.4em 0.5em 0.4em;box-sizing: border-box;padding-bottom: 0.4em;background-color: white;}#sk-container-id-1 div.sk-label label {font-family: monospace;font-weight: bold;display: inline-block;line-height: 1.2em;}#sk-container-id-1 div.sk-label-container {text-align: center;}#sk-container-id-1 div.sk-container {/* jupyter's `normalize.less` sets `[hidden] { display: none; }` but bootstrap.min.css set `[hidden] { display: none !important; }` so we also need the `!important` here to be able to override the default hidden behavior on the sphinx rendered scikit-learn.org. See: https://github.com/scikit-learn/scikit-learn/issues/21755 */display: inline-block !important;position: relative;}#sk-container-id-1 div.sk-text-repr-fallback {display: none;}</style><div id=\"sk-container-id-1\" class=\"sk-top-container\"><div class=\"sk-text-repr-fallback\"><pre>LinearRegression()</pre><b>In a Jupyter environment, please rerun this cell to show the HTML representation or trust the notebook. <br />On GitHub, the HTML representation is unable to render, please try loading this page with nbviewer.org.</b></div><div class=\"sk-container\" hidden><div class=\"sk-item\"><div class=\"sk-estimator sk-toggleable\"><input class=\"sk-toggleable__control sk-hidden--visually\" id=\"sk-estimator-id-1\" type=\"checkbox\" checked><label for=\"sk-estimator-id-1\" class=\"sk-toggleable__label sk-toggleable__label-arrow\">LinearRegression</label><div class=\"sk-toggleable__content\"><pre>LinearRegression()</pre></div></div></div></div></div>"
      ],
      "text/plain": [
       "LinearRegression()"
      ]
     },
     "execution_count": 10,
     "metadata": {},
     "output_type": "execute_result"
    }
   ],
   "source": [
    "model = LinearRegression()\n",
    "\n",
    "\n",
    "model.fit(X_train_scaled, y_train)"
   ]
  },
  {
   "cell_type": "code",
   "execution_count": 11,
   "id": "47104637",
   "metadata": {},
   "outputs": [
    {
     "name": "stdout",
     "output_type": "stream",
     "text": [
      "training score:0.8758910210540625\n",
      "testing score:0.8219182546176417\n"
     ]
    }
   ],
   "source": [
    "print(f'training score:{model.score(X_train_scaled, y_train)}')\n",
    "print(f'testing score:{model.score(X_test_scaled, y_test)}')"
   ]
  },
  {
   "cell_type": "code",
   "execution_count": 12,
   "id": "64daa8cb",
   "metadata": {},
   "outputs": [
    {
     "name": "stdout",
     "output_type": "stream",
     "text": [
      "    Actual    Predicted  Difference\n",
      "27    4275  4540.154899 -265.154899\n",
      "40    1560  1531.512741   28.487259\n",
      "26    3510  3079.474385  430.525615\n",
      "43    2340  2698.228482 -358.228482\n",
      "24    3900  3111.467087  788.532913\n",
      "37    2610  2511.073961   98.926039\n",
      "12    2925  2624.891299  300.108701\n",
      "19    2340  2698.228482 -358.228482\n",
      "4     2905  3149.445151 -244.445151\n",
      "25    4510  4146.593820  363.406180\n"
     ]
    }
   ],
   "source": [
    "predictions = model.predict(X_test_scaled)\n",
    "\n",
    "# Create a DataFrame with actual and predicted values\n",
    "results = pd.DataFrame({'Actual': y_test, 'Predicted': predictions})\n",
    "\n",
    "results['Difference'] = results['Actual'] - results['Predicted']\n",
    "\n",
    "print(results)"
   ]
  },
  {
   "cell_type": "code",
   "execution_count": 13,
   "id": "8b71cbba",
   "metadata": {},
   "outputs": [
    {
     "name": "stdout",
     "output_type": "stream",
     "text": [
      "Enter value for No_of_Bulbs: 8\n",
      "Enter value for No_of_Fans: 3\n",
      "Enter value for No_of_Washing_Machines: 2\n",
      "Enter value for No_of_Water_Pumps: 2\n",
      "Enter value for No_of_Freezers: 2\n",
      "Enter value for No_of_TV: 4\n",
      "Enter value for No_of_AC: 4\n",
      "Enter value for No_of_Iron: 2\n",
      "Enter value for Electricity_Bill: 50000\n",
      "Enter value for Total_Units_Consumed: 300\n",
      "Enter value for Price_per_Unit: 30\n",
      "Predicted Bill: 282220.9483530442\n"
     ]
    }
   ],
   "source": [
    "user_input = {}\n",
    "for feature in X.columns:\n",
    "    user_input[feature] = float(input(f'Enter value for {feature}: '))\n",
    "\n",
    "user_df = pd.DataFrame([user_input])\n",
    "\n",
    "# Standardize user input\n",
    "user_scaled = scaler.transform(user_df)\n",
    "\n",
    "\n",
    "predicted_bill = model.predict(user_scaled)\n",
    "\n",
    "\n",
    "print(f'Predicted Bill: {predicted_bill[0]}')"
   ]
  },
  {
   "cell_type": "code",
   "execution_count": null,
   "id": "38cd1f47",
   "metadata": {},
   "outputs": [],
   "source": []
  }
 ],
 "metadata": {
  "kernelspec": {
   "display_name": "Python 3 (ipykernel)",
   "language": "python",
   "name": "python3"
  },
  "language_info": {
   "codemirror_mode": {
    "name": "ipython",
    "version": 3
   },
   "file_extension": ".py",
   "mimetype": "text/x-python",
   "name": "python",
   "nbconvert_exporter": "python",
   "pygments_lexer": "ipython3",
   "version": "3.11.4"
  }
 },
 "nbformat": 4,
 "nbformat_minor": 5
}
